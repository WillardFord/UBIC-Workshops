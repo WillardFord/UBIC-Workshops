{
 "cells": [
  {
   "cell_type": "markdown",
   "metadata": {},
   "source": [
    "# Genome Assembly"
   ]
  },
  {
   "cell_type": "markdown",
   "metadata": {},
   "source": [
    "![Newspaper Analogy from CSE 181 online notes](imgs/newspaper_blowup.png)"
   ]
  },
  {
   "cell_type": "markdown",
   "metadata": {},
   "source": [
    "## Overview:\n",
    "Genome Sequencing is difficult. We cannot simply read from one end of a chromosome to another (at least not yet). **So instead we must cut each chromosome into many small pieces and sequence the individual parts.** Reconstructing the original chromosomes using the small pieces is called Genome Assembly."
   ]
  },
  {
   "cell_type": "markdown",
   "metadata": {},
   "source": [
    "Just like we can find overlapping parts in the newspaper scraps, we assemble the original genome by finding overlapping sequences in each read. Then we just read the entire sequence from left to right.\n",
    "\n",
    "![Sequencing overview from CSE 181 online material](imgs/sequencing_overview.png)"
   ]
  },
  {
   "cell_type": "markdown",
   "metadata": {},
   "source": [
    "Although this process seems simple, there are a few wrinkles which complicate the process:\n",
    "\n",
    "1. DNA is double stranded so the overlapping sequences may be on opposite strands-we have to deal with reverse compliment sequences.\n",
    "2. Sequencing is not perfect and errors are still common. \n",
    "3. Some regions of the genome may not be covered by any reads.\n",
    "\n",
    "Though for our excercises we're mostly going to ignore these problems. We can pretend that there are no missing segments or errors in our sequences and that all sequences are on the same strand."
   ]
  },
  {
   "cell_type": "markdown",
   "metadata": {},
   "source": [
    "## Python functions and dictionaries"
   ]
  },
  {
   "cell_type": "markdown",
   "metadata": {},
   "source": [
    "Given that we can store strings in Python, we can actually store different data types that are related to one another with a dictionary. \n",
    "\n",
    "For each entry in a dictionary we have 2 pieces: a key and a value. The key is an identity or the name of a location. The value is what is stored at that location and is returned when using the key. In a dictionary the key is a word and the value is the definition, you get by navigating to the location of the key in the book.\n",
    "\n",
    "In other programming languages dictionaries are called *hashmaps*. They are very fast but can occasionally take a lot of space in memory.\n",
    "\n",
    "Here is a [quick tutorial on dictionaries](https://www.w3schools.com/python/python_dictionaries.asp) and below is a quick summary.\n",
    "\n",
    "---\n",
    "\n",
    "What if we wanted to print the name and first 3 letters of each students major in the example below. \n"
   ]
  },
  {
   "cell_type": "code",
   "execution_count": null,
   "metadata": {},
   "outputs": [],
   "source": [
    "# Example: Let's say you want to store a list of students & their majors\n",
    "students = {\n",
    "    \"Joe\": \"Biology\",\n",
    "    \"Anna\": \"Psychology\",\n",
    "    \"Bob\": \"History\"\n",
    "}\n",
    "\n",
    "# How would I print the name and major of just one student:\n",
    "name_and_3let_major_string = \"\"\n",
    "print(name_and_3let_major_string)"
   ]
  },
  {
   "cell_type": "markdown",
   "metadata": {},
   "source": [
    "Instead of repeating it three times (once for each student), what if we wrote a function and a for loop. We'll start with the function:"
   ]
  },
  {
   "cell_type": "code",
   "execution_count": null,
   "metadata": {},
   "outputs": [],
   "source": [
    "def name_and_major(dictionary, key):\n",
    "    \"\"\"\n",
    "    Return the name and 3 letter major string from the dictionary for a given key\n",
    "    \"\"\"\n",
    "    name_and_3let_major_string = \"\"\n",
    "    # TODO\n",
    "    return name_and_3let_major_string\n",
    "\n",
    "# Test case for function\n",
    "print(name_and_major(students, \"Joe\"))"
   ]
  },
  {
   "cell_type": "markdown",
   "metadata": {},
   "source": [
    "Now let's try using the function with a for loop.\n",
    "\n",
    "Hint: The test case above shows how to call your function."
   ]
  },
  {
   "cell_type": "code",
   "execution_count": null,
   "metadata": {},
   "outputs": [],
   "source": [
    "for key in students.keys:\n",
    "    # TODO\n",
    "    pass"
   ]
  },
  {
   "cell_type": "markdown",
   "metadata": {},
   "source": [
    "## Kmer Introduction\n",
    "Kmers are short DNA sequences of a given length that we can use to construct a DNA sequence.\n",
    "\n",
    "For example given the sequence `CAATCCAAC`. The first 5-mer present would be `CAATC`, the second `AATCC` and so on. These kmers let us represent a longer sequence as the composition of many smaller pieces of length k. \n",
    "\n",
    "If we can imagine the cut-up pieces of DNA during sequencing as kmers in the genome we might be able to see how algorithms with kmers could be useful for genome assembly. In fact, kmers are fundamental to many bioinformatic algorithms. \n",
    "\n",
    "---\n",
    "\n",
    "Let's practice generating them.\n",
    "\n",
    "hint: a `for` loop and string slicing should be enough to solve this problem."
   ]
  },
  {
   "cell_type": "code",
   "execution_count": null,
   "metadata": {},
   "outputs": [],
   "source": [
    "def kmer_composition(text: str, k: int) -> list[str]:\n",
    "    \"\"\"\n",
    "    This function should return a list containing all kmers of length k from text\n",
    "    \"\"\"\n",
    "    kmers = []\n",
    "    # TODO\n",
    "\n",
    "    return kmers"
   ]
  },
  {
   "cell_type": "code",
   "execution_count": null,
   "metadata": {},
   "outputs": [],
   "source": [
    "# Check you solution here\n",
    "k = 5\n",
    "text = \"CAATCCAAC\"\n",
    "correct_output = [\"CAATC\", \"AATCC\", \"ATCCA\", \"TCCAA\", \"CCAAC\"]\n",
    "computed_output = kmer_composition(text, k)\n",
    "\n",
    "if len(correct_output) is not len(computed_output): raise Exception(\"Wrong number of kmers\")\n",
    "for kmer in correct_output:\n",
    "    if kmer not in computed_output:\n",
    "        raise Exception(f\"Missing kmer: {kmer}\")\n",
    "print(\"Success!\")"
   ]
  },
  {
   "cell_type": "markdown",
   "metadata": {},
   "source": [
    "My solution:"
   ]
  },
  {
   "cell_type": "code",
   "execution_count": null,
   "metadata": {},
   "outputs": [],
   "source": [
    "# TODO: My solution\n",
    "def kmer_composition(text: str, k: int) -> list[str]:\n",
    "    \"\"\"\n",
    "    This function should return a list containing all kmers of length k from text\n",
    "    \"\"\"\n",
    "    kmers = []\n",
    "    for i in range(len(text)-k+1):\n",
    "        kmers.append(text[i:i+k])\n",
    "    return kmers"
   ]
  },
  {
   "cell_type": "code",
   "execution_count": null,
   "metadata": {},
   "outputs": [],
   "source": [
    "# What should the output of the function will be?\n",
    "kmer_composition(\"AATCGATC\", 3)"
   ]
  },
  {
   "cell_type": "markdown",
   "metadata": {},
   "source": [
    "## Does aligning kmers always work?"
   ]
  },
  {
   "cell_type": "markdown",
   "metadata": {},
   "source": [
    "Given our set of kmers, one way to reconstruct our original sequence is to notice their overlaps. In the previous example our contigs overlap as shown:\n",
    "\n",
    "``` python\n",
    "CAATC\n",
    " AATCC\n",
    "  ATCCA\n",
    "   TCCAA\n",
    "    CCAAC\n",
    "```\n",
    "Each column corresponds to a single nucleotide and we can reconstruct the sequence by reading from left to right.\n",
    "\n",
    "``` python\n",
    "CAATCCAAC\n",
    "```"
   ]
  },
  {
   "cell_type": "markdown",
   "metadata": {},
   "source": [
    "\n",
    "More concretely, each k-mer is made up of a **prefix** and a **suffix** each of length k-1. Then overlap between k-mers A and B is equivalent to saying the suffix of k-mer A is identical to the prefix of k-mer B.\n",
    "\n",
    "For example let kmer_A and kmer_B be defined below:\n",
    "``` python\n",
    "kmer_A = \"CAATC\"\n",
    "kmer_B = \"AATCC\"\n",
    "```\n",
    "\n",
    "What is the prefix and suffix of kmer_A? kmer_B?"
   ]
  },
  {
   "cell_type": "code",
   "execution_count": 4,
   "metadata": {},
   "outputs": [],
   "source": [
    "# TODO: insert answers here\n",
    "kmer_A_prefix = \"\"\n",
    "kmer_A_suffix = \"\"\n",
    "\n",
    "kmer_B_prefix = \"\"\n",
    "kmer_B_suffix = \"\""
   ]
  },
  {
   "cell_type": "markdown",
   "metadata": {},
   "source": [
    "Which of the following statements will print True?"
   ]
  },
  {
   "cell_type": "code",
   "execution_count": null,
   "metadata": {},
   "outputs": [],
   "source": [
    "print(\"Case A:\", kmer_A_prefix == kmer_B_prefix)\n",
    "print(\"Case B:\", kmer_A_prefix == kmer_B_suffix)\n",
    "print(\"Case C:\", kmer_A_suffix == kmer_B_prefix)\n",
    "print(\"Case D:\", kmer_A_suffix == kmer_B_prefix)"
   ]
  },
  {
   "cell_type": "markdown",
   "metadata": {},
   "source": [
    "Now try assembly in practice to get an intuition for our goal. \n",
    "\n",
    "Consider this set of 3-mers. Take a few minutes and try to reconstruct the original sequence. Type your answer below.\n",
    "``` python\n",
    "AAT AAT ATG ATT GAA TAA TGA TTA\n",
    "```"
   ]
  },
  {
   "cell_type": "markdown",
   "metadata": {},
   "source": [
    "Try adding in the overlapping segments here like we saw before:\n",
    "``` python\n",
    "# TODO: \n",
    "SEQA\n",
    " SEQB\n",
    "  SEQC\n",
    "   ...\n",
    "\n",
    "# Solution:\n",
    "```"
   ]
  },
  {
   "cell_type": "code",
   "execution_count": 2,
   "metadata": {},
   "outputs": [],
   "source": [
    "#TODO hide solution\n",
    "original_seq = \"TAATGAATTA\""
   ]
  },
  {
   "cell_type": "markdown",
   "metadata": {},
   "source": [
    "You may notice that connecting the overlapping pieces doesn't always work. Consider this example:\n",
    "``` python\n",
    "TAA\n",
    " AAT\n",
    "  ATT\n",
    "   TTA\n",
    "```\n",
    "After assembling 4 kmers we find that there is no kmer that we can add after TTA. This is because one k-mer, AAT, is repeated twice. We have to guess the correct kmer to follow afterward in either ATG or ATT. \n",
    "\n",
    "Recall our genomes are made up of millions of repeated segments. To test every possible combination is an extremely slow task, even with modern computing power.\n",
    "\n",
    "Instead we must come up with a more clever approach to solve this problem."
   ]
  },
  {
   "cell_type": "markdown",
   "metadata": {},
   "source": [
    "## Graph introduction, Overlap Graphs and de Bruijn graphs"
   ]
  },
  {
   "cell_type": "markdown",
   "metadata": {},
   "source": [
    "TODO\n",
    "\n",
    "1. Introduction to directed graphs.\n",
    "    1. A graph is a set of nodes and edges.\n",
    "        1. Also introduce the in-degree and out-degree of a node.\n",
    "    2. We represent a di-graph in python as a dictionary of nodes mapping to other nodes it connects to. (practice this on trivial case probably)\n",
    "2. Then introduce overlap graphs. \n",
    "    1. Practice reading the original sequence back from an overlap graph, and how to construct one using a set of kmers. Especially when the nodes are not in the correct order.\n",
    "    2. The original sequence in an overlap graph is a path which visits all nodes.\n",
    "    3. Finding this path (eulerian path) is slow so instead we use a slightly different graph\n",
    "3. Then introduce de Bruijn graph == overlap graph but compress identical nodes into one\n",
    "    1. Then the original sequence in this graph is a path that visits every edge. (Eulerian path)\n",
    "    2. Practice reading it out."
   ]
  },
  {
   "cell_type": "markdown",
   "metadata": {},
   "source": [
    "Even though we introduced de Bruijn graphs from overlap graphs. We can construct them directly from a set of kmers. We don't need the original sequence at all.\n",
    "\n",
    "`For each kmer, add an edge from its prefix to its suffix to our graph.`\n",
    "\n",
    "For example:\n",
    "``` python\n",
    "de_bruijn_graph = defaultdict(list)\n",
    "kmer = \"ACGT\"\n",
    "de_bruijn_graph[\"ACG\"].append(\"CGT\")\n",
    "```\n",
    "\n",
    "Try implementing a function to build a de Brujin graph from a list of kmers. I've started the function below for you:"
   ]
  },
  {
   "cell_type": "code",
   "execution_count": 1,
   "metadata": {},
   "outputs": [],
   "source": [
    "from collections import defaultdict"
   ]
  },
  {
   "cell_type": "code",
   "execution_count": null,
   "metadata": {},
   "outputs": [],
   "source": [
    "def build_de_bruijn(kmers:list[str]) ->  Dict[str, List[str]]:\n",
    "    de_bruijn_graph = defaultdict(list)\n",
    "    for kmer in kmers:\n",
    "        #TODO Your solution here\n",
    "    return de_bruijn_graph"
   ]
  },
  {
   "cell_type": "code",
   "execution_count": 6,
   "metadata": {},
   "outputs": [
    {
     "data": {
      "text/plain": [
       "'\\nSample output edge list\\nAC: CG\\nAT: TA\\nCG: GT\\nGT: TA TG\\nTA: AT\\nTG: GT\\n'"
      ]
     },
     "execution_count": 6,
     "metadata": {},
     "output_type": "execute_result"
    }
   ],
   "source": [
    "# TODO hide test function for de_bruijn graph\n",
    "\"\"\"\n",
    "Sample input k and string\n",
    "3\n",
    "ACGTGTATA\n",
    "\"\"\"\n",
    "\"\"\"\n",
    "Sample output edge list\n",
    "AC: CG\n",
    "AT: TA\n",
    "CG: GT\n",
    "GT: TA TG\n",
    "TA: AT\n",
    "TG: GT\n",
    "\"\"\""
   ]
  },
  {
   "cell_type": "markdown",
   "metadata": {},
   "source": [
    "## Finding genomes in de Bruijn graphs"
   ]
  },
  {
   "cell_type": "markdown",
   "metadata": {},
   "source": [
    "TODO: \n",
    "1. Introduce Eulerian Cycle\n",
    "    1. Recall we want to find an path that visits every edge (Eulerian Path)\n",
    "    2. One of the challenges is that we don't even know where to start.\n",
    "    3. Idea: if we connect the first and last node by an edge. We can start looking from anywhere. --> Eulerian Cycle\n",
    "2. We can identify the first and last node because they are the only nodes with an odd number of edges. \n",
    "    1. Ant traveling along a graph analogy. If there are an odd number of edges to a node we must either start or finish there. Otherwise we only visit and then leave using the corresponding even node\n",
    "    2. We can have them implement this part in an example\n",
    "3. Then we can use efficient algorithms for finding an eulerian cycle\n",
    "    1. Hierholzer's Algorithm, may have time to explain with some figures but definitely we won't be implementing it.\n"
   ]
  },
  {
   "cell_type": "markdown",
   "metadata": {},
   "source": [
    "## Addendum: assembly in practice"
   ]
  },
  {
   "cell_type": "markdown",
   "metadata": {},
   "source": [
    "Assembly in reality is much more difficult than we have illustrated here because we made several simplifying assumptions."
   ]
  },
  {
   "cell_type": "markdown",
   "metadata": {},
   "source": [
    "Firstly, to reconstruct a genome by traversing a de Bruijn graph we assumed that all kmers of our original sequence are present. But in reality our reads are not evenly distributed. In the figure below we can see that even though the sequenced 10-mers cover the entire sequence, they are too sparse to use the method we've described above. To accomodate for this problem we can break the 10-mers into smaller k-mers. These smaller 5-mers cover every possible 5-mer in our sequence so our assembly method works.\n",
    "\n",
    "However, this is not a catch-all. When lowering our k, we are more likely to see repetitive sequences and this can make multiple correct solutions possible. So we want to maintain as high k as possible while covering all k-mers in the dataset.\n",
    "\n",
    "![read breaking from CSE 181 lecture notes](imgs/read_breaking.png)"
   ]
  },
  {
   "cell_type": "markdown",
   "metadata": {},
   "source": [
    "Secondly, we assumed that there were no errors in any of our reads. An error in a read produces a *bubble* in our overlap graph as shown below. Modern assemblers will try to detect these bubbles in de Bruijn graphs collapse them to the correct path based on the number of reads that support each variation. We can predict the size of bubbles based on which k we choose to better detect erroneous reads.\n",
    "\n",
    "But it's not a perfect process and errors do occasionally make thier way into assemblies.\n",
    "\n",
    "![bubble](imgs/bubble.png)"
   ]
  },
  {
   "cell_type": "markdown",
   "metadata": {},
   "source": [
    "We also assumed that there are no gaps in our reads coverage of the genome. This is very rarely the case. In this scenario we cannot generate a sequence that is not present in our data. So in practice, we must settle for the longest contigous sequences possible, these are often called **contigs**. Fortunately these can also be found efficiently in the de Bruijn graph as *maximal non-branching paths*. Each non-branching path corresponds to a sequence that we are 100% sure exists as a real sequence in the genome because it has no ambiguity on which path it follows.\n",
    "\n",
    "Each contig must exist as a real contiguous sequence on one chromosome, but the contigs could exist very far apart from each other or on different chromosomes entirely. We can scaffold these contigs together into an assembly with gaps using outside information or different sequencing technologies (Hi C, Long Read, paired-end).\n",
    "\n",
    "The complete human genome published in 2000 was such an assembly with gaps comprising ~8% of all bases. The real gapless human genome was only completed in 2022."
   ]
  },
  {
   "cell_type": "markdown",
   "metadata": {},
   "source": [
    "In practice sequencing is often done with paired-end reads. This allows us to know that two sequences are a fixed distance apart from each other. In many cases, we can use this information to eliminate incorrect, but possible assemblies from the real contig that exists in the organism."
   ]
  },
  {
   "cell_type": "markdown",
   "metadata": {},
   "source": [
    "We assumed that all reads were on the same strand of our double stranded DNA. In reality, we sequence from both strands of DNA and have no way to determine which is which. Our solution is to add the reverse-compliment of every read into our dataset, effectively doubling the number of reads. This complicates assembly but allows to include all information from sequencing.\n",
    "\n",
    "This extra complexity in our de Bruijn graph is not random. Certain characteristic features appear such as palindromes and we can simplify our graph without losing information to better handle the influx of reads. This combined with paired-end reads still allows us to find contigs effectively."
   ]
  }
 ],
 "metadata": {
  "kernelspec": {
   "display_name": "data-science",
   "language": "python",
   "name": "python3"
  },
  "language_info": {
   "codemirror_mode": {
    "name": "ipython",
    "version": 3
   },
   "file_extension": ".py",
   "mimetype": "text/x-python",
   "name": "python",
   "nbconvert_exporter": "python",
   "pygments_lexer": "ipython3",
   "version": "3.12.7"
  }
 },
 "nbformat": 4,
 "nbformat_minor": 2
}
