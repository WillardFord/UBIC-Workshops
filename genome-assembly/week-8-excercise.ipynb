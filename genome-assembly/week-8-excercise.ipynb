{
 "cells": [
  {
   "cell_type": "markdown",
   "metadata": {},
   "source": [
    "# Genome Assembly"
   ]
  },
  {
   "cell_type": "code",
   "execution_count": 1,
   "metadata": {},
   "outputs": [],
   "source": [
    "from collections import defaultdict"
   ]
  },
  {
   "cell_type": "markdown",
   "metadata": {},
   "source": [
    "![Newspaper Analogy from CSE 181 online notes](imgs/newspaper_blowup.png)"
   ]
  },
  {
   "cell_type": "markdown",
   "metadata": {},
   "source": [
    "## Overview:\n",
    "Genome Sequencing is difficult. We cannot simply read from one end of a chromosome to another (at least not yet). **So instead we must cut each chromosome into many small pieces and sequence the individual parts.** Reconstructing the original chromosomes using the small pieces is called Genome Assembly."
   ]
  },
  {
   "cell_type": "markdown",
   "metadata": {},
   "source": [
    "Just like we can find overlapping parts in the newspaper scraps, we assemble the original genome by finding overlapping sequences in each read. Then we just read the entire sequence from left to right.\n",
    "\n",
    "![Sequencing overview from CSE 181 online material](imgs/sequencing_overview.png)"
   ]
  },
  {
   "cell_type": "markdown",
   "metadata": {},
   "source": [
    "Although this process seems simple, there are a few wrinkles which complicate the process:\n",
    "\n",
    "1. DNA is double stranded so the overlapping sequences may be on opposite strands-we have to deal with reverse compliment sequences.\n",
    "2. Sequencing is not perfect and errors are still common. \n",
    "3. Some regions of the genome may not be covered by any reads.\n",
    "\n",
    "Though for our excercises we're mostly going to ignore these problems. We can pretend that there are no missing segments or errors in our sequences and that all sequences are on the same strand."
   ]
  },
  {
   "cell_type": "markdown",
   "metadata": {},
   "source": [
    "## Python functions and k-mers"
   ]
  },
  {
   "cell_type": "markdown",
   "metadata": {},
   "source": [
    "Intro to python functions.\n",
    "\n",
    "Functions are a fundamental part of programming that exist in every language. They are used in bioinformatics to run algorithms and data analyses in the exact same way everytime.\n",
    "\n",
    "- TODO: Compelte introduction\n",
    "- TODO: Give a small example for people to work on. Should include string slicing, dictionaries, for loop"
   ]
  },
  {
   "cell_type": "code",
   "execution_count": null,
   "metadata": {},
   "outputs": [],
   "source": []
  },
  {
   "cell_type": "markdown",
   "metadata": {},
   "source": [
    "TODO: Kmer introduction"
   ]
  },
  {
   "cell_type": "code",
   "execution_count": null,
   "metadata": {},
   "outputs": [],
   "source": [
    "def kmer_composition(text: str, k: int) -> list[str]:\n",
    "    \"\"\"\n",
    "    This function should return a list containing all kmers of length k from text\n",
    "    \"\"\"\n",
    "    return []"
   ]
  },
  {
   "cell_type": "code",
   "execution_count": null,
   "metadata": {},
   "outputs": [],
   "source": [
    "# Insert hidden test case here\n",
    "k = 5\n",
    "text = \"CAATCCAAC\"\n",
    "output = [\"CAATC\", \"AATCC\", \"ATCCA\", \"TCCAA\", \"CCAAC\"]"
   ]
  },
  {
   "cell_type": "markdown",
   "metadata": {},
   "source": [
    "## Does aligning kmers always work?"
   ]
  },
  {
   "cell_type": "markdown",
   "metadata": {},
   "source": [
    "Given our set of kmers, one way to reconstruct our original sequence is to notice their overlaps. In the previous example our contigs overlap as shown:\n",
    "\n",
    "``` python\n",
    "CAATC\n",
    " AATCC\n",
    "  ATCCA\n",
    "   TCCAA\n",
    "    CCAAC\n",
    "```\n",
    "Each column corresponds to a single nucleotide and we can reconstruct the sequence by reading from left to right.\n",
    "\n",
    "``` python\n",
    "CAATCCAAC\n",
    "```"
   ]
  },
  {
   "cell_type": "markdown",
   "metadata": {},
   "source": [
    "\n",
    "More concretely, each k-mer is made up of a **prefix** and a **suffix** each of length k-1. Then overlap between k-mers A and B is equivalent to saying the suffix of k-mer A is identical to the prefix of k-mer B.\n",
    "\n",
    "For example let kmer_A and kmer_B be defined below:\n",
    "``` python\n",
    "kmer_A = \"CAATC\"\n",
    "kmer_B = \"AATCC\"\n",
    "```\n",
    "\n",
    "What is the prefix and suffix of kmer_A? kmer_B?"
   ]
  },
  {
   "cell_type": "code",
   "execution_count": 4,
   "metadata": {},
   "outputs": [],
   "source": [
    "# TODO: insert answers here\n",
    "kmer_A_prefix = \"\"\n",
    "kmer_A_suffix = \"\"\n",
    "\n",
    "kmer_B_prefix = \"\"\n",
    "kmer_B_suffix = \"\""
   ]
  },
  {
   "cell_type": "markdown",
   "metadata": {},
   "source": [
    "Which of the following statements will print True?"
   ]
  },
  {
   "cell_type": "code",
   "execution_count": null,
   "metadata": {},
   "outputs": [],
   "source": [
    "print(\"Case A:\", kmer_A_prefix == kmer_B_prefix)\n",
    "print(\"Case B:\", kmer_A_prefix == kmer_B_suffix)\n",
    "print(\"Case C:\", kmer_A_suffix == kmer_B_prefix)\n",
    "print(\"Case D:\", kmer_A_suffix == kmer_B_prefix)"
   ]
  },
  {
   "cell_type": "markdown",
   "metadata": {},
   "source": [
    "Now try assembly in practice to get an intuition for our goal. \n",
    "\n",
    "Consider this set of 3-mers. Take a few minutes and try to reconstruct the original sequence. Type your answer below.\n",
    "``` python\n",
    "AAT AAT ATG ATT GAA TAA TGA TTA\n",
    "```"
   ]
  },
  {
   "cell_type": "markdown",
   "metadata": {},
   "source": [
    "Try adding in the overlapping segments here like we saw before:\n",
    "``` python\n",
    "# TODO: \n",
    "SEQA\n",
    " SEQB\n",
    "  SEQC\n",
    "   ...\n",
    "\n",
    "# Solution:\n",
    "```"
   ]
  },
  {
   "cell_type": "code",
   "execution_count": 2,
   "metadata": {},
   "outputs": [],
   "source": [
    "#TODO hide solution\n",
    "original_seq = \"TAATGAATTA\""
   ]
  },
  {
   "cell_type": "markdown",
   "metadata": {},
   "source": [
    "You may notice that connecting the overlapping pieces doesn't always work. Consider this example:\n",
    "``` python\n",
    "TAA\n",
    " AAT\n",
    "  ATT\n",
    "   TTA\n",
    "```\n",
    "After assembling 4 kmers we find that there is no kmer that we can add after TTA. This is because one k-mer, AAT, is repeated twice. We have to guess the correct kmer to follow afterward in either ATG or ATT. \n",
    "\n",
    "Recall our genomes are made up of millions of repeated segments. To test every possible combination is an extremely slow task, even with modern computing power.\n",
    "\n",
    "Instead we must come up with a more clever approach to solve this problem."
   ]
  },
  {
   "cell_type": "markdown",
   "metadata": {},
   "source": [
    "## Graph introduction, Overlap Graphs and de Bruijn graphs"
   ]
  },
  {
   "cell_type": "markdown",
   "metadata": {},
   "source": [
    "TODO\n",
    "\n",
    "1. Introduction to directed graphs.\n",
    "    1. A graph is a set of nodes and edges.\n",
    "        1. Also introduce the in-degree and out-degree of a node.\n",
    "    2. We represent a di-graph in python as a dictionary of nodes mapping to other nodes it connects to. (practice this on trivial case probably)\n",
    "2. Then introduce overlap graphs. \n",
    "    1. Practice reading the original sequence back from an overlap graph, and how to construct one using a set of kmers. Especially when the nodes are not in the correct order.\n",
    "    2. The original sequence in an overlap graph is a path which visits all nodes.\n",
    "    3. Finding this path (eulerian path) is slow so instead we use a slightly different graph\n",
    "3. Then introduce de Bruijn graph == (compress identical nodes into one)\n",
    "    1. Then the original sequence in this graph is a path that visits every edge. (Eulerian path)\n",
    "    2. Practice reading it out."
   ]
  },
  {
   "cell_type": "markdown",
   "metadata": {},
   "source": [
    "Even though we introduced de Bruijn graphs from overlap graphs. We can construct them directly from a set of kmers. We don't need the original sequence at all.\n",
    "\n",
    "`For each kmer, add an edge from its prefix to its suffix to our graph.`\n",
    "\n",
    "For example:\n",
    "``` python\n",
    "de_bruijn_graph = defaultdict(list)\n",
    "kmer = \"ACGT\"\n",
    "de_bruijn_graph[\"ACG\"].append(\"CGT\")\n",
    "```\n",
    "\n",
    "Try implementing a function to build a de Brujin graph from a list of kmers. I've started the function below for you:"
   ]
  },
  {
   "cell_type": "code",
   "execution_count": null,
   "metadata": {},
   "outputs": [],
   "source": [
    "def build_de_bruijn(kmers:list[str]) ->  Dict[str, List[str]]:\n",
    "    de_bruijn_graph = defaultdict(list)\n",
    "    for kmer in kmers:\n",
    "        #TODO Your solution here\n",
    "    return de_bruijn_graph"
   ]
  },
  {
   "cell_type": "code",
   "execution_count": 6,
   "metadata": {},
   "outputs": [
    {
     "data": {
      "text/plain": [
       "'\\nSample output edge list\\nAC: CG\\nAT: TA\\nCG: GT\\nGT: TA TG\\nTA: AT\\nTG: GT\\n'"
      ]
     },
     "execution_count": 6,
     "metadata": {},
     "output_type": "execute_result"
    }
   ],
   "source": [
    "# TODO hide test function for de_bruijn graph\n",
    "\"\"\"\n",
    "Sample input k and string\n",
    "3\n",
    "ACGTGTATA\n",
    "\"\"\"\n",
    "\"\"\"\n",
    "Sample output edge list\n",
    "AC: CG\n",
    "AT: TA\n",
    "CG: GT\n",
    "GT: TA TG\n",
    "TA: AT\n",
    "TG: GT\n",
    "\"\"\""
   ]
  },
  {
   "cell_type": "markdown",
   "metadata": {},
   "source": [
    "## Finding genomes in de Bruijn graphs"
   ]
  },
  {
   "cell_type": "markdown",
   "metadata": {},
   "source": [
    "TODO: \n",
    "1. Introduce Eulerian Cycle\n",
    "    1. Recall we want to find an path that visits every edge (Eulerian Path)\n",
    "    2. One of the challenges is that we don't even know where to start.\n",
    "    3. Idea: if we connect the first and last node by an edge. We can start looking from anywhere. --> Eulerian Cycle\n",
    "2. We can identify the first and last node because they are the only nodes with an odd number of edges. \n",
    "    1. Ant traveling along a graph analogy. If there are an odd number of edges to a node we must either start or finish there. Otherwise we only visit and then leave using the corresponding even node\n",
    "    2. We can have them implement this part in an example\n",
    "3. Then we can use efficient algorithms for finding an eulerian cycle\n",
    "    1. Hierholzer's Algorithm, may have time to explain with some figures but definitely we won't be implementing it.\n"
   ]
  }
 ],
 "metadata": {
  "kernelspec": {
   "display_name": "data-science",
   "language": "python",
   "name": "python3"
  },
  "language_info": {
   "codemirror_mode": {
    "name": "ipython",
    "version": 3
   },
   "file_extension": ".py",
   "mimetype": "text/x-python",
   "name": "python",
   "nbconvert_exporter": "python",
   "pygments_lexer": "ipython3",
   "version": "3.12.7"
  }
 },
 "nbformat": 4,
 "nbformat_minor": 2
}
