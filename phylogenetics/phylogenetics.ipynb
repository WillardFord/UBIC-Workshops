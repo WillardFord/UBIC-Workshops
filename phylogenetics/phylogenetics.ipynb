{
 "cells": [
  {
   "cell_type": "markdown",
   "metadata": {},
   "source": [
    "# Phylogenetics"
   ]
  },
  {
   "cell_type": "markdown",
   "metadata": {},
   "source": [
    "Phylogenetics is useful **bold**, *italic*,\n",
    "\n",
    "![no image found](imgs/name_of_image.jpg)\n",
    "\n",
    "- a\n",
    "- b\n",
    "- c \n",
    "\n",
    "this is a `python variable name`\n",
    "\n",
    "```\n",
    "if x > 1:\n",
    "    print(true)\n",
    "```\n",
    "\n",
    "$x > 3$"
   ]
  },
  {
   "cell_type": "markdown",
   "metadata": {},
   "source": [
    "## What is phylogenetics\n",
    "\n",
    "**Phylogenetics:** Using genetics to study evolutionary history\n",
    "\n",
    "Relationships among:\n",
    "- Species\n",
    "- Individuals \n",
    "- Genes \n",
    "\n",
    "![](/Users/harperhipps/Documents/GitHub/UBIC-Workshops/phylogenetics/img/Tree2.jpg)\n"
   ]
  },
  {
   "cell_type": "markdown",
   "metadata": {},
   "source": [
    "## Phylogenetic Trees\n",
    "Closer together → more genetic overlap\n",
    "\n",
    "**Clade**: Common ancestor and all its descendants\n",
    "- COVID is a clade in the family coronaviridae\n",
    "\n",
    "![](/Users/harperhipps/Documents/GitHub/UBIC-Workshops/phylogenetics/img/Tree1.jpg)\n",
    "\n"
   ]
  },
  {
   "cell_type": "markdown",
   "metadata": {},
   "source": [
    "## What is a fasta file?"
   ]
  },
  {
   "cell_type": "markdown",
   "metadata": {},
   "source": [
    "A FASTA file is a text-based file format that is commonly used in nucleotide sequences or peptide sequences."
   ]
  },
  {
   "cell_type": "code",
   "execution_count": null,
   "metadata": {},
   "outputs": [],
   "source": [
    "# Import necessary modules\n",
    "from google.colab import files\n",
    "from Bio import SeqIO\n",
    "\n",
    "# Upload the FASTA file\n",
    "uploaded = files.upload()  # Allows interactive file upload"
   ]
  },
  {
   "cell_type": "markdown",
   "metadata": {},
   "source": [
    "Use `cat` to view the contents of the file."
   ]
  },
  {
   "cell_type": "code",
   "execution_count": null,
   "metadata": {},
   "outputs": [],
   "source": [
    "cat filename.fasta"
   ]
  },
  {
   "cell_type": "markdown",
   "metadata": {},
   "source": [
    "Scroll through the FASTA file interactively."
   ]
  },
  {
   "cell_type": "code",
   "execution_count": null,
   "metadata": {},
   "outputs": [],
   "source": [
    "less filename.fasta"
   ]
  },
  {
   "cell_type": "markdown",
   "metadata": {},
   "source": [
    "Display the first or last few lines of the FASTA file."
   ]
  },
  {
   "cell_type": "code",
   "execution_count": null,
   "metadata": {},
   "outputs": [],
   "source": [
    "head -n 10 filename.fasta  # First 10 lines\n",
    "tail -n 10 filename.fasta  # Last 10 lines"
   ]
  },
  {
   "cell_type": "markdown",
   "metadata": {},
   "source": [
    "Use `head` and/or `tail` to explore the data more. (Hint: change the value after -n)"
   ]
  },
  {
   "cell_type": "code",
   "execution_count": null,
   "metadata": {},
   "outputs": [],
   "source": []
  },
  {
   "cell_type": "markdown",
   "metadata": {},
   "source": [
    "Use grep to find specific sequences or headers."
   ]
  },
  {
   "cell_type": "code",
   "execution_count": null,
   "metadata": {},
   "outputs": [],
   "source": [
    "grep \">\" filename.fasta  # List all sequence headers"
   ]
  },
  {
   "cell_type": "markdown",
   "metadata": {},
   "source": [
    "Follow [this link](https://builtin.com/articles/grep-command) and scroll down to \"13 grep Options to Know\". Explore the options and try on your own. Filter the searches to find only certain sequences."
   ]
  },
  {
   "cell_type": "code",
   "execution_count": null,
   "metadata": {},
   "outputs": [],
   "source": []
  },
  {
   "cell_type": "markdown",
   "metadata": {},
   "source": [
    "What do you notice about this file? (Hint: Pay attention to the format and each column!)\n",
    "\n",
    "What do you think this type of file could be used or analyzed for?"
   ]
  },
  {
   "cell_type": "markdown",
   "metadata": {},
   "source": [
    "## How to build phylogenetic trees with small and large parsimony problems and alignment?\n"
   ]
  },
  {
   "cell_type": "markdown",
   "metadata": {},
   "source": [
    "## Base Level Algorithm\n",
    "\n",
    "With this example, our goal will be to identify the least number of evolutionary changes within a tree. \n",
    "Let's say we have this tree, where each node (1,2,3,4) represents a different nucleotide.\n",
    "For instance\n",
    "    1 = A\n",
    "    2 = G\n",
    "    3 = A\n",
    "    4 = C\n",
    "    \n",
    "         Root\n",
    "        /   \\\n",
    "       X     Y\n",
    "      / \\   / \\\n",
    "     1   2  3  4\n",
    "\n",
    "We can look at this tree and record the different changes in a cost table. \n",
    "\n",
    "If there's no change, then cost = 0\n",
    "Transition, cost = 1\n",
    "Transversion, cost = 2\n",
    "\n",
    "With this concept, we can build out a cost table for the different potential values of X\n",
    "\n",
    "\n",
    "| X Value  |  Cost    |\n",
    "| -------- | -------  |\n",
    "| A        |  0 + 1   |\n",
    "| C        |  2 + 2   |\n",
    "| G        |  1 + 0   |\n",
    "| T        |  2 + 2   | \n",
    "\n",
    "\n",
    "Try building this tree for the values of Y. \n",
    "\n",
    "| Y Value  |  Cost    |\n",
    "| -------- | -------  |\n",
    "| A        |          |\n",
    "| C        |          |\n",
    "| G        |          |\n",
    "| T        |          |\n",
    "\n",
    "Question: What would be the most parsimonious state for X/Y, based on the cost tables we've built above? \n",
    "(Hint: Most parsimonious means that there's the least number of changes)\n",
    "\n",
    "Challenge: How would you apply this to determine the root value?"
   ]
  },
  {
   "cell_type": "markdown",
   "metadata": {},
   "source": [
    "## Build tree:\n"
   ]
  },
  {
   "cell_type": "markdown",
   "metadata": {},
   "source": [
    "## Applications of Phylogenetics - COVID\n",
    "Useful for tracking the growth in COVID variants\n",
    "Rapid genome sequencing → determine location someone was infected (based on the COVID clade)\n",
    "- “The first four cases of COVID-19 in New South Wales, Australia, were found to be closely related to the dominant strain of SARS-CoV-2 found in Wuhan, and these first four cases were all in people who had recently returned from traveling in China” [(Source)](https://www.news-medical.net/health/Viral-Clades-of-SARS-CoV-2.aspx)\n",
    "- Phylogenetics was helpful for tracking and tracing COVID origins and limiting travel during the pandemic. \n",
    "\n",
    "Tree of 10 million COVID sequences from  UC Santa Cruz - the largest tree of genomic sequences of a single species ever assembled [(Image Source)](https://news.ucsc.edu/2022/06/10-million-sequences.html)\n",
    "\n",
    "![](/Users/harperhipps/Documents/GitHub/UBIC-Workshops/phylogenetics/img/UCSCtree.jpg)\n"
   ]
  },
  {
   "cell_type": "markdown",
   "metadata": {},
   "source": [
    "## Applications of Phylogenetics at UCSD\n",
    "**PanMAN Tool** (Pangenome Mutation-annotate Network) - Turakhia lab\n",
    "- PanMAN is used to analyze and visualize pangenomes which is especially useful for studying the genetic mutations in viruses like COVID and other microbial datasets\n",
    "    - Composed of mutation-annotated trees called **PanMATs** (Phylogenetic Analysis of Novel Mutations and Transmissions)\n",
    "    - **Pangenome**: entire set of genes from all strains within a clade\n",
    "    \n",
    "![](/Users/harperhipps/Documents/GitHub/UBIC-Workshops/phylogenetics/img/pangenome.jpg)\n",
    "\n",
    "\n",
    "   \n",
    "- Useful because:\n",
    "    - By annotating mutations on different branches of the tree it is easier to quickly identify and analyze genetic changes which could be affecting its severity, resistance to vaccines, and transmissibility\n",
    "\n",
    "    \n",
    "\n",
    "\n",
    "Exploration of SARS-CoV-2 mutational and evolutionary landscape using PanMAN vs UShER-MAT [(Image Source)](https://turakhia.ucsd.edu/PPTs/PanMAN-Oxford-2024.pdf)\n",
    "- UShER-MAT: another MAT tool, cannot represent complex mutations\n",
    "\n",
    "![](/Users/harperhipps/Documents/GitHub/UBIC-Workshops/phylogenetics/img/PanMAN.jpg)\n"
   ]
  },
  {
   "cell_type": "markdown",
   "metadata": {},
   "source": [
    "## Resources at UCSD"
   ]
  },
  {
   "cell_type": "markdown",
   "metadata": {},
   "source": [
    "#### Online Resources\n",
    "[Simple phylogenetic tree explanation](https://evolution.berkeley.edu/evolution-101/the-history-of-life-looking-at-the-patterns/understanding-phylogenies/)\n",
    "\n",
    "[More in-depth explanation of creating trees in python](https://taylor-lindsay.github.io/phylogenetics/?utm_source=chatgpt.com)\n"
   ]
  },
  {
   "cell_type": "markdown",
   "metadata": {},
   "source": [
    "#### Labs at UCSD\n",
    "Turakhia Lab\n",
    " - __[Turakhia Lab Website](https://turakhia.ucsd.edu/)__\n",
    " - Led by Prof. Yatish Turakhia\n",
    " - Affiliated with Electrical and Computer Engineering\n",
    " - Develops automated solutions to construct large-scale phylogenies\n",
    " - Also studies\n",
    "    - __Pangenomics__, genetic variation in a species by looking at multiple genomes. Ex. PanMAN (mentioned previously)\n",
    "    - __Hardware acceleration__, how to improve computing and make it faster\n",
    "    - __Outbreak analysis__, looking at real-time phylogenies to analyze pandemics\n",
    "\n",
    "\n",
    "\n",
    "Mirarab Lab\n",
    " - __[Mirarab Lab Website](http://eceweb.ucsd.edu/~smirarab/)__\n",
    " - Led by Prof. Siavash Mirarab\n",
    " - Affiliated with Electrical and Computer Engineering\n",
    " - Focuses on reconstructing and utilizing phylogenetic trees\n",
    " - Also works in metagenomics (genomics of whole communities of microorganisms), HIV, and Multiple Sequence Alignment, of which they’ve developed 2 new methods\n",
    " - Also studies\n",
    "    - __Metagenomics__, studying whole communities of microorganisms, identifying taxonomic composition (how much of each species)\n",
    "    - __HIV__, specifically transmission network reconstruction\n",
    "    - __Multiple Sequence Alignment__, of which they've developed two new methods. \n"
   ]
  }
 ],
 "metadata": {
  "kernelspec": {
   "display_name": "Python 3 (ipykernel)",
   "language": "python",
   "name": "python3"
  },
  "language_info": {
   "codemirror_mode": {
    "name": "ipython",
    "version": 3
   },
   "file_extension": ".py",
   "mimetype": "text/x-python",
   "name": "python",
   "nbconvert_exporter": "python",
   "pygments_lexer": "ipython3",
   "version": "3.12.7"
  }
 },
 "nbformat": 4,
 "nbformat_minor": 4
}
